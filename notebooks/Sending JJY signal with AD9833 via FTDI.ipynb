{
 "cells": [
  {
   "cell_type": "markdown",
   "metadata": {},
   "source": [
    "# Sending JJY signal with AD9833 via FTDI\n",
    "- https://en.wikipedia.org/wiki/JJY  \n",
    "- https://www.analog.com/media/en/technical-documentation/data-sheets/ad9833.pdf"
   ]
  },
  {
   "cell_type": "code",
   "execution_count": 1,
   "metadata": {},
   "outputs": [],
   "source": [
    "import os, sys\n",
    "\n",
    "def gen_relative_path(target_path): \n",
    "    \n",
    "    def del_same_parents(target_path, current_path):\n",
    "        if len(target_path) * len(current_path) > 0:\n",
    "            if target_path[0] == current_path[0]:\n",
    "                target_path.pop(0)\n",
    "                current_path.pop(0)\n",
    "                del_same_parents(target_path, current_path)\n",
    "            \n",
    "    current_path = os.getcwd().replace('\\\\', '/').split('/')\n",
    "    target_path = target_path.replace('\\\\', '/').split('/')\n",
    "    del_same_parents(target_path, current_path)\n",
    "    \n",
    "    return ['..'] * len(current_path) + target_path\n",
    "\n",
    "\n",
    "def append_source_relative_path(source_relative_path):\n",
    "    sys.path.append(os.sep.join(source_relative_path))"
   ]
  },
  {
   "cell_type": "code",
   "execution_count": 2,
   "metadata": {},
   "outputs": [],
   "source": [
    "# paths = ['']\n",
    "# paths = [gen_relative_path(p) for p in paths]\n",
    "# print(paths)"
   ]
  },
  {
   "cell_type": "code",
   "execution_count": 3,
   "metadata": {},
   "outputs": [],
   "source": [
    "paths = [['..', '..', '..', '..', '..', '..', '待處理', 'ORM'],\n",
    "         ['..', '..', '..', '..', '..', '..', '待處理', 'USB', 'Universal Serial Bus', 'bitbucket', 'github', 'codes'],\n",
    "         ['..', '..', '..', '..', '..', 'Bridges', 'bitbucket', 'github', 'codes'],\n",
    "         ['..', '..', '..', '..', '..', '..', '待處理', 'Signal Generators', 'bitbucket', 'github', 'codes'],\n",
    "         ['..', 'codes']]\n",
    "\n",
    "for path in paths:\n",
    "    append_source_relative_path(path)"
   ]
  },
  {
   "cell_type": "code",
   "execution_count": 4,
   "metadata": {},
   "outputs": [
    {
     "name": "stdout",
     "output_type": "stream",
     "text": [
      "Populating the interactive namespace from numpy and matplotlib\n"
     ]
    }
   ],
   "source": [
    "%pylab inline \n",
    "\n",
    "from signal_generators import adapters, register, interfaces, shift_register\n",
    "from signal_generators.ad983x.ad9833 import ad9833, modulators\n",
    "from radio_clock.jjy import *"
   ]
  },
  {
   "cell_type": "markdown",
   "metadata": {},
   "source": [
    "## Debug mode?"
   ]
  },
  {
   "cell_type": "code",
   "execution_count": 5,
   "metadata": {
    "scrolled": false
   },
   "outputs": [],
   "source": [
    "adapters.SPI.DEBUG_MODE = False  # whether to show SPI written data.\n",
    "ad9833.AD9833.DEBUG_MODE = False        # whether to dump registers. "
   ]
  },
  {
   "cell_type": "markdown",
   "metadata": {},
   "source": [
    "## Generators and Modulators"
   ]
  },
  {
   "cell_type": "code",
   "execution_count": 7,
   "metadata": {},
   "outputs": [],
   "source": [
    "with_hardware_device = True\n",
    "\n",
    "if with_hardware_device:\n",
    "    _clk = adapters.Pin.get_Ftdi_pin(pin_id = 4)\n",
    "    _data = adapters.Pin.get_Ftdi_pin(pin_id = 1)\n",
    "\n",
    "    _ss = adapters.Pin.get_Ftdi_pin(pin_id = 3)\n",
    "    _spi = shift_register.ShiftRegister(stb_pin = _ss, clk_pin = _clk, data_pin = _data, polarity = 1) \n",
    "else:\n",
    "    _spi = _ss = None  # using None for testing without actual hardware device."
   ]
  },
  {
   "cell_type": "code",
   "execution_count": 8,
   "metadata": {},
   "outputs": [],
   "source": [
    "ook = modulators.OOK(_spi, _ss, freq = 4e4)"
   ]
  },
  {
   "cell_type": "code",
   "execution_count": null,
   "metadata": {},
   "outputs": [],
   "source": [
    "ook.enable_output(True)"
   ]
  },
  {
   "cell_type": "code",
   "execution_count": null,
   "metadata": {},
   "outputs": [],
   "source": [
    "ook.enable_output(False)"
   ]
  },
  {
   "cell_type": "code",
   "execution_count": null,
   "metadata": {},
   "outputs": [],
   "source": [
    "year, month, month_day, hour, minute, second, week_day, year_day = Encoder.get_datetime_elements()\n",
    "year, month, month_day, hour, minute, second, week_day, year_day    "
   ]
  },
  {
   "cell_type": "markdown",
   "metadata": {},
   "source": [
    "## Sending JJY signal"
   ]
  },
  {
   "cell_type": "code",
   "execution_count": 10,
   "metadata": {
    "scrolled": false
   },
   "outputs": [
    {
     "name": "stdout",
     "output_type": "stream",
     "text": [
      "time.struct_time(tm_year=2020, tm_mon=4, tm_mday=3, tm_hour=14, tm_min=14, tm_sec=21, tm_wday=4, tm_yday=94, tm_isdst=0)\n",
      "time.struct_time(tm_year=2020, tm_mon=4, tm_mday=3, tm_hour=14, tm_min=15, tm_sec=21, tm_wday=4, tm_yday=94, tm_isdst=0)\n",
      "time.struct_time(tm_year=2020, tm_mon=4, tm_mday=3, tm_hour=14, tm_min=16, tm_sec=21, tm_wday=4, tm_yday=94, tm_isdst=0)\n",
      "time.struct_time(tm_year=2020, tm_mon=4, tm_mday=3, tm_hour=14, tm_min=17, tm_sec=21, tm_wday=4, tm_yday=94, tm_isdst=0)\n",
      "time.struct_time(tm_year=2020, tm_mon=4, tm_mday=3, tm_hour=14, tm_min=18, tm_sec=21, tm_wday=4, tm_yday=94, tm_isdst=0)\n",
      "time.struct_time(tm_year=2020, tm_mon=4, tm_mday=3, tm_hour=14, tm_min=19, tm_sec=21, tm_wday=4, tm_yday=94, tm_isdst=0)\n",
      "time.struct_time(tm_year=2020, tm_mon=4, tm_mday=3, tm_hour=14, tm_min=20, tm_sec=21, tm_wday=4, tm_yday=94, tm_isdst=0)\n",
      "time.struct_time(tm_year=2020, tm_mon=4, tm_mday=3, tm_hour=14, tm_min=21, tm_sec=21, tm_wday=4, tm_yday=94, tm_isdst=0)\n",
      "time.struct_time(tm_year=2020, tm_mon=4, tm_mday=3, tm_hour=14, tm_min=22, tm_sec=21, tm_wday=4, tm_yday=94, tm_isdst=0)\n",
      "time.struct_time(tm_year=2020, tm_mon=4, tm_mday=3, tm_hour=14, tm_min=23, tm_sec=21, tm_wday=4, tm_yday=94, tm_isdst=0)\n",
      "time.struct_time(tm_year=2020, tm_mon=4, tm_mday=3, tm_hour=14, tm_min=24, tm_sec=21, tm_wday=4, tm_yday=94, tm_isdst=0)\n",
      "time.struct_time(tm_year=2020, tm_mon=4, tm_mday=3, tm_hour=14, tm_min=25, tm_sec=21, tm_wday=4, tm_yday=94, tm_isdst=0)\n",
      "time.struct_time(tm_year=2020, tm_mon=4, tm_mday=3, tm_hour=14, tm_min=26, tm_sec=21, tm_wday=4, tm_yday=94, tm_isdst=0)\n",
      "time.struct_time(tm_year=2020, tm_mon=4, tm_mday=3, tm_hour=14, tm_min=27, tm_sec=20, tm_wday=4, tm_yday=94, tm_isdst=0)\n",
      "time.struct_time(tm_year=2020, tm_mon=4, tm_mday=3, tm_hour=14, tm_min=28, tm_sec=20, tm_wday=4, tm_yday=94, tm_isdst=0)\n",
      "time.struct_time(tm_year=2020, tm_mon=4, tm_mday=3, tm_hour=14, tm_min=29, tm_sec=20, tm_wday=4, tm_yday=94, tm_isdst=0)\n",
      "time.struct_time(tm_year=2020, tm_mon=4, tm_mday=3, tm_hour=14, tm_min=30, tm_sec=20, tm_wday=4, tm_yday=94, tm_isdst=0)\n",
      "time.struct_time(tm_year=2020, tm_mon=4, tm_mday=3, tm_hour=14, tm_min=31, tm_sec=20, tm_wday=4, tm_yday=94, tm_isdst=0)\n",
      "time.struct_time(tm_year=2020, tm_mon=4, tm_mday=3, tm_hour=14, tm_min=32, tm_sec=20, tm_wday=4, tm_yday=94, tm_isdst=0)\n",
      "time.struct_time(tm_year=2020, tm_mon=4, tm_mday=3, tm_hour=14, tm_min=33, tm_sec=20, tm_wday=4, tm_yday=94, tm_isdst=0)\n",
      "time.struct_time(tm_year=2020, tm_mon=4, tm_mday=3, tm_hour=14, tm_min=34, tm_sec=20, tm_wday=4, tm_yday=94, tm_isdst=0)\n",
      "time.struct_time(tm_year=2020, tm_mon=4, tm_mday=3, tm_hour=14, tm_min=35, tm_sec=20, tm_wday=4, tm_yday=94, tm_isdst=0)\n",
      "time.struct_time(tm_year=2020, tm_mon=4, tm_mday=3, tm_hour=14, tm_min=36, tm_sec=20, tm_wday=4, tm_yday=94, tm_isdst=0)\n",
      "time.struct_time(tm_year=2020, tm_mon=4, tm_mday=3, tm_hour=14, tm_min=37, tm_sec=19, tm_wday=4, tm_yday=94, tm_isdst=0)\n",
      "time.struct_time(tm_year=2020, tm_mon=4, tm_mday=3, tm_hour=14, tm_min=38, tm_sec=19, tm_wday=4, tm_yday=94, tm_isdst=0)\n",
      "time.struct_time(tm_year=2020, tm_mon=4, tm_mday=3, tm_hour=14, tm_min=39, tm_sec=19, tm_wday=4, tm_yday=94, tm_isdst=0)\n",
      "time.struct_time(tm_year=2020, tm_mon=4, tm_mday=3, tm_hour=14, tm_min=40, tm_sec=19, tm_wday=4, tm_yday=94, tm_isdst=0)\n",
      "time.struct_time(tm_year=2020, tm_mon=4, tm_mday=3, tm_hour=14, tm_min=41, tm_sec=19, tm_wday=4, tm_yday=94, tm_isdst=0)\n",
      "time.struct_time(tm_year=2020, tm_mon=4, tm_mday=3, tm_hour=14, tm_min=42, tm_sec=19, tm_wday=4, tm_yday=94, tm_isdst=0)\n",
      "time.struct_time(tm_year=2020, tm_mon=4, tm_mday=3, tm_hour=14, tm_min=43, tm_sec=19, tm_wday=4, tm_yday=94, tm_isdst=0)\n",
      "time.struct_time(tm_year=2020, tm_mon=4, tm_mday=3, tm_hour=14, tm_min=44, tm_sec=19, tm_wday=4, tm_yday=94, tm_isdst=0)\n",
      "time.struct_time(tm_year=2020, tm_mon=4, tm_mday=3, tm_hour=14, tm_min=45, tm_sec=19, tm_wday=4, tm_yday=94, tm_isdst=0)\n",
      "time.struct_time(tm_year=2020, tm_mon=4, tm_mday=3, tm_hour=14, tm_min=46, tm_sec=19, tm_wday=4, tm_yday=94, tm_isdst=0)\n",
      "time.struct_time(tm_year=2020, tm_mon=4, tm_mday=3, tm_hour=14, tm_min=47, tm_sec=18, tm_wday=4, tm_yday=94, tm_isdst=0)\n",
      "time.struct_time(tm_year=2020, tm_mon=4, tm_mday=3, tm_hour=14, tm_min=48, tm_sec=18, tm_wday=4, tm_yday=94, tm_isdst=0)\n",
      "time.struct_time(tm_year=2020, tm_mon=4, tm_mday=3, tm_hour=14, tm_min=49, tm_sec=18, tm_wday=4, tm_yday=94, tm_isdst=0)\n",
      "time.struct_time(tm_year=2020, tm_mon=4, tm_mday=3, tm_hour=14, tm_min=50, tm_sec=18, tm_wday=4, tm_yday=94, tm_isdst=0)\n",
      "time.struct_time(tm_year=2020, tm_mon=4, tm_mday=3, tm_hour=14, tm_min=51, tm_sec=18, tm_wday=4, tm_yday=94, tm_isdst=0)\n",
      "time.struct_time(tm_year=2020, tm_mon=4, tm_mday=3, tm_hour=14, tm_min=52, tm_sec=18, tm_wday=4, tm_yday=94, tm_isdst=0)\n",
      "time.struct_time(tm_year=2020, tm_mon=4, tm_mday=3, tm_hour=14, tm_min=53, tm_sec=18, tm_wday=4, tm_yday=94, tm_isdst=0)\n",
      "time.struct_time(tm_year=2020, tm_mon=4, tm_mday=3, tm_hour=14, tm_min=54, tm_sec=18, tm_wday=4, tm_yday=94, tm_isdst=0)\n",
      "time.struct_time(tm_year=2020, tm_mon=4, tm_mday=3, tm_hour=14, tm_min=55, tm_sec=18, tm_wday=4, tm_yday=94, tm_isdst=0)\n",
      "time.struct_time(tm_year=2020, tm_mon=4, tm_mday=3, tm_hour=14, tm_min=56, tm_sec=18, tm_wday=4, tm_yday=94, tm_isdst=0)\n",
      "time.struct_time(tm_year=2020, tm_mon=4, tm_mday=3, tm_hour=14, tm_min=57, tm_sec=17, tm_wday=4, tm_yday=94, tm_isdst=0)\n",
      "time.struct_time(tm_year=2020, tm_mon=4, tm_mday=3, tm_hour=14, tm_min=58, tm_sec=17, tm_wday=4, tm_yday=94, tm_isdst=0)\n",
      "time.struct_time(tm_year=2020, tm_mon=4, tm_mday=3, tm_hour=14, tm_min=59, tm_sec=17, tm_wday=4, tm_yday=94, tm_isdst=0)\n",
      "time.struct_time(tm_year=2020, tm_mon=4, tm_mday=3, tm_hour=15, tm_min=0, tm_sec=17, tm_wday=4, tm_yday=94, tm_isdst=0)\n",
      "time.struct_time(tm_year=2020, tm_mon=4, tm_mday=3, tm_hour=15, tm_min=1, tm_sec=17, tm_wday=4, tm_yday=94, tm_isdst=0)\n",
      "time.struct_time(tm_year=2020, tm_mon=4, tm_mday=3, tm_hour=15, tm_min=2, tm_sec=17, tm_wday=4, tm_yday=94, tm_isdst=0)\n",
      "time.struct_time(tm_year=2020, tm_mon=4, tm_mday=3, tm_hour=15, tm_min=3, tm_sec=17, tm_wday=4, tm_yday=94, tm_isdst=0)\n",
      "time.struct_time(tm_year=2020, tm_mon=4, tm_mday=3, tm_hour=15, tm_min=4, tm_sec=17, tm_wday=4, tm_yday=94, tm_isdst=0)\n",
      "time.struct_time(tm_year=2020, tm_mon=4, tm_mday=3, tm_hour=15, tm_min=5, tm_sec=17, tm_wday=4, tm_yday=94, tm_isdst=0)\n",
      "time.struct_time(tm_year=2020, tm_mon=4, tm_mday=3, tm_hour=15, tm_min=6, tm_sec=17, tm_wday=4, tm_yday=94, tm_isdst=0)\n",
      "time.struct_time(tm_year=2020, tm_mon=4, tm_mday=3, tm_hour=15, tm_min=7, tm_sec=17, tm_wday=4, tm_yday=94, tm_isdst=0)\n",
      "time.struct_time(tm_year=2020, tm_mon=4, tm_mday=3, tm_hour=15, tm_min=8, tm_sec=17, tm_wday=4, tm_yday=94, tm_isdst=0)\n",
      "time.struct_time(tm_year=2020, tm_mon=4, tm_mday=3, tm_hour=15, tm_min=9, tm_sec=16, tm_wday=4, tm_yday=94, tm_isdst=0)\n",
      "time.struct_time(tm_year=2020, tm_mon=4, tm_mday=3, tm_hour=15, tm_min=10, tm_sec=16, tm_wday=4, tm_yday=94, tm_isdst=0)\n",
      "time.struct_time(tm_year=2020, tm_mon=4, tm_mday=3, tm_hour=15, tm_min=11, tm_sec=16, tm_wday=4, tm_yday=94, tm_isdst=0)\n",
      "time.struct_time(tm_year=2020, tm_mon=4, tm_mday=3, tm_hour=15, tm_min=12, tm_sec=16, tm_wday=4, tm_yday=94, tm_isdst=0)\n",
      "time.struct_time(tm_year=2020, tm_mon=4, tm_mday=3, tm_hour=15, tm_min=13, tm_sec=16, tm_wday=4, tm_yday=94, tm_isdst=0)\n",
      "time.struct_time(tm_year=2020, tm_mon=4, tm_mday=3, tm_hour=15, tm_min=14, tm_sec=16, tm_wday=4, tm_yday=94, tm_isdst=0)\n",
      "time.struct_time(tm_year=2020, tm_mon=4, tm_mday=3, tm_hour=15, tm_min=15, tm_sec=16, tm_wday=4, tm_yday=94, tm_isdst=0)\n",
      "time.struct_time(tm_year=2020, tm_mon=4, tm_mday=3, tm_hour=15, tm_min=16, tm_sec=16, tm_wday=4, tm_yday=94, tm_isdst=0)\n",
      "time.struct_time(tm_year=2020, tm_mon=4, tm_mday=3, tm_hour=15, tm_min=17, tm_sec=16, tm_wday=4, tm_yday=94, tm_isdst=0)\n",
      "time.struct_time(tm_year=2020, tm_mon=4, tm_mday=3, tm_hour=15, tm_min=18, tm_sec=16, tm_wday=4, tm_yday=94, tm_isdst=0)\n",
      "time.struct_time(tm_year=2020, tm_mon=4, tm_mday=3, tm_hour=15, tm_min=19, tm_sec=16, tm_wday=4, tm_yday=94, tm_isdst=0)\n",
      "time.struct_time(tm_year=2020, tm_mon=4, tm_mday=3, tm_hour=15, tm_min=20, tm_sec=16, tm_wday=4, tm_yday=94, tm_isdst=0)\n",
      "time.struct_time(tm_year=2020, tm_mon=4, tm_mday=3, tm_hour=15, tm_min=21, tm_sec=16, tm_wday=4, tm_yday=94, tm_isdst=0)\n"
     ]
    },
    {
     "name": "stdout",
     "output_type": "stream",
     "text": [
      "time.struct_time(tm_year=2020, tm_mon=4, tm_mday=3, tm_hour=15, tm_min=22, tm_sec=16, tm_wday=4, tm_yday=94, tm_isdst=0)\n",
      "time.struct_time(tm_year=2020, tm_mon=4, tm_mday=3, tm_hour=15, tm_min=23, tm_sec=15, tm_wday=4, tm_yday=94, tm_isdst=0)\n",
      "time.struct_time(tm_year=2020, tm_mon=4, tm_mday=3, tm_hour=15, tm_min=24, tm_sec=15, tm_wday=4, tm_yday=94, tm_isdst=0)\n",
      "time.struct_time(tm_year=2020, tm_mon=4, tm_mday=3, tm_hour=15, tm_min=25, tm_sec=15, tm_wday=4, tm_yday=94, tm_isdst=0)\n",
      "time.struct_time(tm_year=2020, tm_mon=4, tm_mday=3, tm_hour=15, tm_min=26, tm_sec=15, tm_wday=4, tm_yday=94, tm_isdst=0)\n",
      "time.struct_time(tm_year=2020, tm_mon=4, tm_mday=3, tm_hour=15, tm_min=27, tm_sec=15, tm_wday=4, tm_yday=94, tm_isdst=0)\n",
      "time.struct_time(tm_year=2020, tm_mon=4, tm_mday=3, tm_hour=15, tm_min=28, tm_sec=15, tm_wday=4, tm_yday=94, tm_isdst=0)\n",
      "time.struct_time(tm_year=2020, tm_mon=4, tm_mday=3, tm_hour=15, tm_min=29, tm_sec=15, tm_wday=4, tm_yday=94, tm_isdst=0)\n",
      "time.struct_time(tm_year=2020, tm_mon=4, tm_mday=3, tm_hour=15, tm_min=30, tm_sec=15, tm_wday=4, tm_yday=94, tm_isdst=0)\n",
      "time.struct_time(tm_year=2020, tm_mon=4, tm_mday=3, tm_hour=15, tm_min=31, tm_sec=15, tm_wday=4, tm_yday=94, tm_isdst=0)\n",
      "time.struct_time(tm_year=2020, tm_mon=4, tm_mday=3, tm_hour=15, tm_min=32, tm_sec=15, tm_wday=4, tm_yday=94, tm_isdst=0)\n",
      "time.struct_time(tm_year=2020, tm_mon=4, tm_mday=3, tm_hour=15, tm_min=33, tm_sec=15, tm_wday=4, tm_yday=94, tm_isdst=0)\n",
      "time.struct_time(tm_year=2020, tm_mon=4, tm_mday=3, tm_hour=15, tm_min=34, tm_sec=14, tm_wday=4, tm_yday=94, tm_isdst=0)\n",
      "time.struct_time(tm_year=2020, tm_mon=4, tm_mday=3, tm_hour=15, tm_min=35, tm_sec=14, tm_wday=4, tm_yday=94, tm_isdst=0)\n",
      "time.struct_time(tm_year=2020, tm_mon=4, tm_mday=3, tm_hour=15, tm_min=36, tm_sec=14, tm_wday=4, tm_yday=94, tm_isdst=0)\n",
      "time.struct_time(tm_year=2020, tm_mon=4, tm_mday=3, tm_hour=15, tm_min=37, tm_sec=14, tm_wday=4, tm_yday=94, tm_isdst=0)\n",
      "time.struct_time(tm_year=2020, tm_mon=4, tm_mday=3, tm_hour=15, tm_min=38, tm_sec=14, tm_wday=4, tm_yday=94, tm_isdst=0)\n",
      "time.struct_time(tm_year=2020, tm_mon=4, tm_mday=3, tm_hour=15, tm_min=39, tm_sec=14, tm_wday=4, tm_yday=94, tm_isdst=0)\n",
      "time.struct_time(tm_year=2020, tm_mon=4, tm_mday=3, tm_hour=15, tm_min=40, tm_sec=14, tm_wday=4, tm_yday=94, tm_isdst=0)\n",
      "time.struct_time(tm_year=2020, tm_mon=4, tm_mday=3, tm_hour=15, tm_min=41, tm_sec=14, tm_wday=4, tm_yday=94, tm_isdst=0)\n",
      "time.struct_time(tm_year=2020, tm_mon=4, tm_mday=3, tm_hour=15, tm_min=42, tm_sec=14, tm_wday=4, tm_yday=94, tm_isdst=0)\n",
      "time.struct_time(tm_year=2020, tm_mon=4, tm_mday=3, tm_hour=15, tm_min=43, tm_sec=14, tm_wday=4, tm_yday=94, tm_isdst=0)\n",
      "time.struct_time(tm_year=2020, tm_mon=4, tm_mday=3, tm_hour=15, tm_min=44, tm_sec=14, tm_wday=4, tm_yday=94, tm_isdst=0)\n",
      "time.struct_time(tm_year=2020, tm_mon=4, tm_mday=3, tm_hour=15, tm_min=45, tm_sec=14, tm_wday=4, tm_yday=94, tm_isdst=0)\n",
      "time.struct_time(tm_year=2020, tm_mon=4, tm_mday=3, tm_hour=15, tm_min=46, tm_sec=13, tm_wday=4, tm_yday=94, tm_isdst=0)\n",
      "time.struct_time(tm_year=2020, tm_mon=4, tm_mday=3, tm_hour=15, tm_min=47, tm_sec=13, tm_wday=4, tm_yday=94, tm_isdst=0)\n",
      "time.struct_time(tm_year=2020, tm_mon=4, tm_mday=3, tm_hour=15, tm_min=48, tm_sec=13, tm_wday=4, tm_yday=94, tm_isdst=0)\n",
      "time.struct_time(tm_year=2020, tm_mon=4, tm_mday=3, tm_hour=15, tm_min=49, tm_sec=13, tm_wday=4, tm_yday=94, tm_isdst=0)\n",
      "time.struct_time(tm_year=2020, tm_mon=4, tm_mday=3, tm_hour=15, tm_min=50, tm_sec=13, tm_wday=4, tm_yday=94, tm_isdst=0)\n",
      "time.struct_time(tm_year=2020, tm_mon=4, tm_mday=3, tm_hour=15, tm_min=51, tm_sec=13, tm_wday=4, tm_yday=94, tm_isdst=0)\n",
      "time.struct_time(tm_year=2020, tm_mon=4, tm_mday=3, tm_hour=15, tm_min=52, tm_sec=13, tm_wday=4, tm_yday=94, tm_isdst=0)\n",
      "time.struct_time(tm_year=2020, tm_mon=4, tm_mday=3, tm_hour=15, tm_min=53, tm_sec=13, tm_wday=4, tm_yday=94, tm_isdst=0)\n",
      "time.struct_time(tm_year=2020, tm_mon=4, tm_mday=3, tm_hour=15, tm_min=54, tm_sec=13, tm_wday=4, tm_yday=94, tm_isdst=0)\n",
      "time.struct_time(tm_year=2020, tm_mon=4, tm_mday=3, tm_hour=15, tm_min=55, tm_sec=13, tm_wday=4, tm_yday=94, tm_isdst=0)\n",
      "time.struct_time(tm_year=2020, tm_mon=4, tm_mday=3, tm_hour=15, tm_min=56, tm_sec=13, tm_wday=4, tm_yday=94, tm_isdst=0)\n",
      "time.struct_time(tm_year=2020, tm_mon=4, tm_mday=3, tm_hour=15, tm_min=57, tm_sec=13, tm_wday=4, tm_yday=94, tm_isdst=0)\n",
      "time.struct_time(tm_year=2020, tm_mon=4, tm_mday=3, tm_hour=15, tm_min=58, tm_sec=12, tm_wday=4, tm_yday=94, tm_isdst=0)\n",
      "time.struct_time(tm_year=2020, tm_mon=4, tm_mday=3, tm_hour=15, tm_min=59, tm_sec=12, tm_wday=4, tm_yday=94, tm_isdst=0)\n",
      "time.struct_time(tm_year=2020, tm_mon=4, tm_mday=3, tm_hour=16, tm_min=0, tm_sec=12, tm_wday=4, tm_yday=94, tm_isdst=0)\n",
      "time.struct_time(tm_year=2020, tm_mon=4, tm_mday=3, tm_hour=16, tm_min=1, tm_sec=12, tm_wday=4, tm_yday=94, tm_isdst=0)\n",
      "time.struct_time(tm_year=2020, tm_mon=4, tm_mday=3, tm_hour=16, tm_min=2, tm_sec=12, tm_wday=4, tm_yday=94, tm_isdst=0)\n",
      "time.struct_time(tm_year=2020, tm_mon=4, tm_mday=3, tm_hour=16, tm_min=3, tm_sec=12, tm_wday=4, tm_yday=94, tm_isdst=0)\n",
      "time.struct_time(tm_year=2020, tm_mon=4, tm_mday=3, tm_hour=16, tm_min=4, tm_sec=12, tm_wday=4, tm_yday=94, tm_isdst=0)\n",
      "time.struct_time(tm_year=2020, tm_mon=4, tm_mday=3, tm_hour=16, tm_min=5, tm_sec=12, tm_wday=4, tm_yday=94, tm_isdst=0)\n",
      "time.struct_time(tm_year=2020, tm_mon=4, tm_mday=3, tm_hour=16, tm_min=6, tm_sec=12, tm_wday=4, tm_yday=94, tm_isdst=0)\n",
      "time.struct_time(tm_year=2020, tm_mon=4, tm_mday=3, tm_hour=16, tm_min=7, tm_sec=12, tm_wday=4, tm_yday=94, tm_isdst=0)\n",
      "time.struct_time(tm_year=2020, tm_mon=4, tm_mday=3, tm_hour=16, tm_min=8, tm_sec=12, tm_wday=4, tm_yday=94, tm_isdst=0)\n",
      "time.struct_time(tm_year=2020, tm_mon=4, tm_mday=3, tm_hour=16, tm_min=9, tm_sec=11, tm_wday=4, tm_yday=94, tm_isdst=0)\n",
      "time.struct_time(tm_year=2020, tm_mon=4, tm_mday=3, tm_hour=16, tm_min=10, tm_sec=11, tm_wday=4, tm_yday=94, tm_isdst=0)\n",
      "time.struct_time(tm_year=2020, tm_mon=4, tm_mday=3, tm_hour=16, tm_min=11, tm_sec=11, tm_wday=4, tm_yday=94, tm_isdst=0)\n",
      "time.struct_time(tm_year=2020, tm_mon=4, tm_mday=3, tm_hour=16, tm_min=12, tm_sec=11, tm_wday=4, tm_yday=94, tm_isdst=0)\n",
      "time.struct_time(tm_year=2020, tm_mon=4, tm_mday=3, tm_hour=16, tm_min=13, tm_sec=11, tm_wday=4, tm_yday=94, tm_isdst=0)\n"
     ]
    }
   ],
   "source": [
    "import time \n",
    "for i in range(2):\n",
    "    t = time.time()\n",
    "    print(time.localtime(t))\n",
    "    \n",
    "    jjy_sequence = Encoder.get_symbols_ook_sequence(t)\n",
    "    ook.send_sequence(jjy_sequence)\n",
    "    \n",
    "#     time.sleep(5)"
   ]
  }
 ],
 "metadata": {
  "kernelspec": {
   "display_name": "Python 3",
   "language": "python",
   "name": "python3"
  },
  "language_info": {
   "codemirror_mode": {
    "name": "ipython",
    "version": 3
   },
   "file_extension": ".py",
   "mimetype": "text/x-python",
   "name": "python",
   "nbconvert_exporter": "python",
   "pygments_lexer": "ipython3",
   "version": "3.6.10"
  }
 },
 "nbformat": 4,
 "nbformat_minor": 2
}
