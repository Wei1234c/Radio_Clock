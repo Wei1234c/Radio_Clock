{
 "cells": [
  {
   "cell_type": "markdown",
   "metadata": {},
   "source": [
    "# Sending JJY signal with AD9833 via FTDI\n",
    "- https://en.wikipedia.org/wiki/JJY  \n",
    "- https://www.analog.com/media/en/technical-documentation/data-sheets/ad9833.pdf"
   ]
  },
  {
   "cell_type": "code",
   "execution_count": 1,
   "metadata": {},
   "outputs": [],
   "source": [
    "import os, sys\n",
    "\n",
    "def gen_relative_path(target_path): \n",
    "    \n",
    "    def del_same_parents(target_path, current_path):\n",
    "        if len(target_path) * len(current_path) > 0:\n",
    "            if target_path[0] == current_path[0]:\n",
    "                target_path.pop(0)\n",
    "                current_path.pop(0)\n",
    "                del_same_parents(target_path, current_path)\n",
    "            \n",
    "    current_path = os.getcwd().replace('\\\\', '/').split('/')\n",
    "    target_path = target_path.replace('\\\\', '/').split('/')\n",
    "    del_same_parents(target_path, current_path)\n",
    "    \n",
    "    return ['..'] * len(current_path) + target_path\n",
    "\n",
    "\n",
    "def append_source_relative_path(source_relative_path):\n",
    "    sys.path.append(os.sep.join(source_relative_path))"
   ]
  },
  {
   "cell_type": "code",
   "execution_count": 2,
   "metadata": {},
   "outputs": [],
   "source": [
    "# paths = ['']\n",
    "# paths = [gen_relative_path(p) for p in paths]\n",
    "# print(paths)"
   ]
  },
  {
   "cell_type": "code",
   "execution_count": 3,
   "metadata": {},
   "outputs": [],
   "source": [
    "paths = [['..', '..', '..', '..', '..', '..', '待處理', 'ORM'],\n",
    "         ['..', '..', '..', '..', '..', '..', '待處理', 'USB', 'Universal Serial Bus', 'bitbucket', 'github', 'codes'],\n",
    "         ['..', '..', '..', '..', '..', 'Bridges', 'bitbucket', 'github', 'codes'],\n",
    "         ['..', '..', '..', '..', '..', '..', '待處理', 'Signal Generators', 'bitbucket', 'github', 'codes'],\n",
    "         ['..', 'codes']]\n",
    "\n",
    "for path in paths:\n",
    "    append_source_relative_path(path)"
   ]
  },
  {
   "cell_type": "code",
   "execution_count": 6,
   "metadata": {},
   "outputs": [
    {
     "name": "stdout",
     "output_type": "stream",
     "text": [
      "Populating the interactive namespace from numpy and matplotlib\n"
     ]
    }
   ],
   "source": [
    "%pylab inline \n",
    "\n",
    "from signal_generators import adapters, register, interfaces, shift_register, modulators\n",
    "from signal_generators.ad983x.ad9833 import ad9833\n",
    "\n",
    "from radio_clock.jjy import *"
   ]
  },
  {
   "cell_type": "markdown",
   "metadata": {},
   "source": [
    "## Debug mode?"
   ]
  },
  {
   "cell_type": "code",
   "execution_count": 7,
   "metadata": {
    "scrolled": false
   },
   "outputs": [],
   "source": [
    "adapters.SPI.DEBUG_MODE = False  # whether to show SPI written data.\n",
    "ad9833.AD9833.DEBUG_MODE = False # whether to dump registers. "
   ]
  },
  {
   "cell_type": "markdown",
   "metadata": {},
   "source": [
    "## Generators and Modulators"
   ]
  },
  {
   "cell_type": "code",
   "execution_count": 10,
   "metadata": {},
   "outputs": [],
   "source": [
    "with_hardware_device = False\n",
    "\n",
    "if with_hardware_device:\n",
    "    _clk = adapters.Pin.get_Ftdi_pin(pin_id = 4)\n",
    "    _data = adapters.Pin.get_Ftdi_pin(pin_id = 1)\n",
    "\n",
    "    _ss = adapters.Pin.get_Ftdi_pin(pin_id = 3)\n",
    "    _spi = shift_register.ShiftRegister(stb_pin = _ss, clk_pin = _clk, data_pin = _data, polarity = 1) \n",
    "else:\n",
    "    _spi = _ss = None  # using None for testing without actual hardware device.\n"
   ]
  },
  {
   "cell_type": "code",
   "execution_count": 11,
   "metadata": {},
   "outputs": [],
   "source": [
    "ad = ad9833.AD9833(_spi, _ss)\n",
    "ook = modulators.OOK(ad, freq = int(4e4))"
   ]
  },
  {
   "cell_type": "code",
   "execution_count": 12,
   "metadata": {},
   "outputs": [],
   "source": [
    "ook.enable_output(True)"
   ]
  },
  {
   "cell_type": "code",
   "execution_count": 13,
   "metadata": {},
   "outputs": [],
   "source": [
    "ook.enable_output(False)"
   ]
  },
  {
   "cell_type": "code",
   "execution_count": 14,
   "metadata": {},
   "outputs": [
    {
     "data": {
      "text/plain": [
       "(2020, 4, 4, 20, 18, 45, 5, 95)"
      ]
     },
     "execution_count": 14,
     "metadata": {},
     "output_type": "execute_result"
    }
   ],
   "source": [
    "year, month, month_day, hour, minute, second, week_day, year_day = Encoder.get_datetime_elements()\n",
    "year, month, month_day, hour, minute, second, week_day, year_day    "
   ]
  },
  {
   "cell_type": "markdown",
   "metadata": {},
   "source": [
    "## Sending JJY signal"
   ]
  },
  {
   "cell_type": "code",
   "execution_count": null,
   "metadata": {
    "scrolled": false
   },
   "outputs": [],
   "source": [
    "import time \n",
    "\n",
    "for i in range(30):\n",
    "    \n",
    "    t = time.time()\n",
    "    print(time.localtime(t))\n",
    "    \n",
    "    jjy_sequence = Encoder.get_symbols_ook_sequence(t)\n",
    "    ook.send_sequence(jjy_sequence)\n",
    "    \n",
    "#     time.sleep(5)"
   ]
  }
 ],
 "metadata": {
  "kernelspec": {
   "display_name": "Python 3",
   "language": "python",
   "name": "python3"
  },
  "language_info": {
   "codemirror_mode": {
    "name": "ipython",
    "version": 3
   },
   "file_extension": ".py",
   "mimetype": "text/x-python",
   "name": "python",
   "nbconvert_exporter": "python",
   "pygments_lexer": "ipython3",
   "version": "3.6.10"
  }
 },
 "nbformat": 4,
 "nbformat_minor": 2
}
