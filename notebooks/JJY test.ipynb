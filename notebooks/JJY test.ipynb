{
 "cells": [
  {
   "cell_type": "markdown",
   "metadata": {},
   "source": [
    "# JJY test\n",
    "https://en.wikipedia.org/wiki/JJY  "
   ]
  },
  {
   "cell_type": "code",
   "execution_count": 1,
   "metadata": {},
   "outputs": [],
   "source": [
    "import os, sys\n",
    "\n",
    "def gen_relative_path(target_path): \n",
    "    \n",
    "    def del_same_parents(target_path, current_path):\n",
    "        if len(target_path) * len(current_path) > 0:\n",
    "            if target_path[0] == current_path[0]:\n",
    "                target_path.pop(0)\n",
    "                current_path.pop(0)\n",
    "                del_same_parents(target_path, current_path)\n",
    "            \n",
    "    current_path = os.getcwd().replace('\\\\', '/').split('/')\n",
    "    target_path = target_path.replace('\\\\', '/').split('/')\n",
    "    del_same_parents(target_path, current_path)\n",
    "    \n",
    "    return ['..'] * len(current_path) + target_path\n",
    "\n",
    "\n",
    "def append_source_relative_path(source_relative_path):\n",
    "    sys.path.append(os.sep.join(source_relative_path))"
   ]
  },
  {
   "cell_type": "code",
   "execution_count": 2,
   "metadata": {},
   "outputs": [],
   "source": [
    "# paths = [ ]\n",
    "# paths = [gen_relative_path(p) for p in paths]\n",
    "# print(paths)"
   ]
  },
  {
   "cell_type": "code",
   "execution_count": 3,
   "metadata": {},
   "outputs": [],
   "source": [
    "paths = [['..', 'codes']]\n",
    "\n",
    "for path in paths:\n",
    "    append_source_relative_path(path)"
   ]
  },
  {
   "cell_type": "code",
   "execution_count": 4,
   "metadata": {},
   "outputs": [
    {
     "name": "stdout",
     "output_type": "stream",
     "text": [
      "Populating the interactive namespace from numpy and matplotlib\n"
     ]
    }
   ],
   "source": [
    "%pylab inline  \n",
    "\n",
    "from radio_clock.jjy import *"
   ]
  },
  {
   "cell_type": "markdown",
   "metadata": {},
   "source": [
    "## Encode"
   ]
  },
  {
   "cell_type": "code",
   "execution_count": 5,
   "metadata": {},
   "outputs": [
    {
     "name": "stdout",
     "output_type": "stream",
     "text": [
      "Encoder.get_bits()\n",
      "Encoder.get_datetime_elements()\n",
      "Encoder.get_symbols()\n",
      "Encoder.get_symbols_ook_sequence()\n",
      "Encoder.get_time_code()\n"
     ]
    }
   ],
   "source": [
    "for f in dir(Encoder):\n",
    "    if not f.startswith('_'):\n",
    "        print('Encoder.{}()'.format(f))"
   ]
  },
  {
   "cell_type": "code",
   "execution_count": 6,
   "metadata": {},
   "outputs": [],
   "source": [
    "time_stamp = 1585870980.0"
   ]
  },
  {
   "cell_type": "code",
   "execution_count": 7,
   "metadata": {},
   "outputs": [
    {
     "data": {
      "text/plain": [
       "(2020, 4, 3, 7, 43, 0, 4, 94)"
      ]
     },
     "execution_count": 7,
     "metadata": {},
     "output_type": "execute_result"
    }
   ],
   "source": [
    "year, month, month_day, hour, minute, second, week_day, year_day = Encoder.get_datetime_elements(time_stamp)\n",
    "year, month, month_day, hour, minute, second, week_day, year_day    "
   ]
  },
  {
   "cell_type": "code",
   "execution_count": 8,
   "metadata": {},
   "outputs": [
    {
     "data": {
      "text/plain": [
       "OrderedDict([('M', ['M']),\n",
       "             ('Minutes', [1, 0, 0, 0, 0, 0, 1, 1]),\n",
       "             ('P1', ['M']),\n",
       "             ('Reserved_1', [0, 0]),\n",
       "             ('Hours', [0, 0, 0, 0, 1, 1, 1]),\n",
       "             ('P2', ['M']),\n",
       "             ('Reserved_2', [0, 0]),\n",
       "             ('Day_of_Year', [0, 0, 0, 1, 0, 0, 1, 'M', 0, 1, 0, 0]),\n",
       "             ('Reserved_3', [0, 0]),\n",
       "             ('PA1', [1]),\n",
       "             ('PA2', [1]),\n",
       "             ('SU1', [0]),\n",
       "             ('P4', ['M']),\n",
       "             ('SU2', [0]),\n",
       "             ('Year', [0, 0, 1, 0, 0, 0, 0, 0]),\n",
       "             ('P5', ['M']),\n",
       "             ('Day_of_Week', [1, 0, 1]),\n",
       "             ('LS1', [0]),\n",
       "             ('LS2', [0]),\n",
       "             ('Reserved_4', [0, 0, 0, 0]),\n",
       "             ('P0', ['M'])])"
      ]
     },
     "execution_count": 8,
     "metadata": {},
     "output_type": "execute_result"
    }
   ],
   "source": [
    "Encoder.get_time_code(year, month, month_day, hour, minute, second, week_day, year_day)"
   ]
  },
  {
   "cell_type": "code",
   "execution_count": 9,
   "metadata": {},
   "outputs": [
    {
     "name": "stdout",
     "output_type": "stream",
     "text": [
      "['M', 1, 0, 0, 0, 0, 0, 1, 1, 'M', 0, 0, 0, 0, 0, 0, 1, 1, 1, 'M', 0, 0, 0, 0, 0, 1, 0, 0, 1, 'M', 0, 1, 0, 0, 0, 0, 1, 1, 0, 'M', 0, 0, 0, 1, 0, 0, 0, 0, 0, 'M', 1, 0, 1, 0, 0, 0, 0, 0, 0, 'M']\n"
     ]
    }
   ],
   "source": [
    "bits = Encoder.get_bits(time_stamp)\n",
    "print(bits)"
   ]
  },
  {
   "cell_type": "code",
   "execution_count": 10,
   "metadata": {},
   "outputs": [
    {
     "data": {
      "text/plain": [
       "'M10000011M000000111M000001001M010000110M000100000M101000000M'"
      ]
     },
     "execution_count": 10,
     "metadata": {},
     "output_type": "execute_result"
    }
   ],
   "source": [
    "Encoder.get_symbols(time_stamp)"
   ]
  },
  {
   "cell_type": "code",
   "execution_count": 11,
   "metadata": {},
   "outputs": [],
   "source": [
    "# Encoder.get_symbols_ook_sequence(time_stamp) "
   ]
  },
  {
   "cell_type": "markdown",
   "metadata": {},
   "source": [
    "## Decode"
   ]
  },
  {
   "cell_type": "code",
   "execution_count": 12,
   "metadata": {},
   "outputs": [
    {
     "data": {
      "text/plain": [
       "1585870980.0"
      ]
     },
     "execution_count": 12,
     "metadata": {},
     "output_type": "execute_result"
    }
   ],
   "source": [
    "time_stamp_decoded = Decoder.get_time(bits) \n",
    "time_stamp_decoded"
   ]
  },
  {
   "cell_type": "markdown",
   "metadata": {},
   "source": [
    "## Validate"
   ]
  },
  {
   "cell_type": "code",
   "execution_count": 13,
   "metadata": {},
   "outputs": [
    {
     "data": {
      "text/plain": [
       "1585870980.0"
      ]
     },
     "execution_count": 13,
     "metadata": {},
     "output_type": "execute_result"
    }
   ],
   "source": [
    "time_stamp"
   ]
  },
  {
   "cell_type": "code",
   "execution_count": 14,
   "metadata": {},
   "outputs": [
    {
     "data": {
      "text/plain": [
       "True"
      ]
     },
     "execution_count": 14,
     "metadata": {},
     "output_type": "execute_result"
    }
   ],
   "source": [
    "time_stamp_decoded == time_stamp"
   ]
  },
  {
   "cell_type": "code",
   "execution_count": 15,
   "metadata": {},
   "outputs": [
    {
     "data": {
      "text/plain": [
       "time.struct_time(tm_year=2020, tm_mon=4, tm_mday=3, tm_hour=7, tm_min=43, tm_sec=0, tm_wday=4, tm_yday=94, tm_isdst=0)"
      ]
     },
     "execution_count": 15,
     "metadata": {},
     "output_type": "execute_result"
    }
   ],
   "source": [
    "time.localtime(time_stamp_decoded)"
   ]
  },
  {
   "cell_type": "code",
   "execution_count": 16,
   "metadata": {},
   "outputs": [
    {
     "data": {
      "text/plain": [
       "time.struct_time(tm_year=2020, tm_mon=4, tm_mday=3, tm_hour=7, tm_min=43, tm_sec=0, tm_wday=4, tm_yday=94, tm_isdst=0)"
      ]
     },
     "execution_count": 16,
     "metadata": {},
     "output_type": "execute_result"
    }
   ],
   "source": [
    "time.localtime(time_stamp)"
   ]
  }
 ],
 "metadata": {
  "kernelspec": {
   "display_name": "Python 3",
   "language": "python",
   "name": "python3"
  },
  "language_info": {
   "codemirror_mode": {
    "name": "ipython",
    "version": 3
   },
   "file_extension": ".py",
   "mimetype": "text/x-python",
   "name": "python",
   "nbconvert_exporter": "python",
   "pygments_lexer": "ipython3",
   "version": "3.6.10"
  }
 },
 "nbformat": 4,
 "nbformat_minor": 2
}
