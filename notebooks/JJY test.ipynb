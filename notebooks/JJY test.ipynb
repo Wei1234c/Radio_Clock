{
 "cells": [
  {
   "cell_type": "markdown",
   "metadata": {},
   "source": [
    "# JJY test\n",
    "\n",
    "https://en.wikipedia.org/wiki/JJY  "
   ]
  },
  {
   "cell_type": "code",
   "execution_count": 1,
   "metadata": {},
   "outputs": [],
   "source": [
    "import os, sys\n",
    "\n",
    "def gen_relative_path(target_path): \n",
    "    \n",
    "    def del_same_parents(target_path, current_path):\n",
    "        if len(target_path) * len(current_path) > 0:\n",
    "            if target_path[0] == current_path[0]:\n",
    "                target_path.pop(0)\n",
    "                current_path.pop(0)\n",
    "                del_same_parents(target_path, current_path)\n",
    "            \n",
    "    current_path = os.getcwd().replace('\\\\', '/').split('/')\n",
    "    target_path = target_path.replace('\\\\', '/').split('/')\n",
    "    del_same_parents(target_path, current_path)\n",
    "    \n",
    "    return ['..'] * len(current_path) + target_path\n",
    "\n",
    "\n",
    "def append_source_relative_path(source_relative_path):\n",
    "    sys.path.append(os.sep.join(source_relative_path))"
   ]
  },
  {
   "cell_type": "code",
   "execution_count": 2,
   "metadata": {},
   "outputs": [],
   "source": [
    "# paths = [gen_relative_path(p) for p in paths]\n",
    "# print(paths)"
   ]
  },
  {
   "cell_type": "code",
   "execution_count": 3,
   "metadata": {},
   "outputs": [],
   "source": [
    "paths = [['..', 'codes']]\n",
    "\n",
    "for path in paths:\n",
    "    append_source_relative_path(path)"
   ]
  },
  {
   "cell_type": "code",
   "execution_count": 4,
   "metadata": {},
   "outputs": [
    {
     "name": "stdout",
     "output_type": "stream",
     "text": [
      "Populating the interactive namespace from numpy and matplotlib\n"
     ]
    }
   ],
   "source": [
    "%pylab inline  \n",
    "\n",
    "from radio_clock.jjy import *"
   ]
  },
  {
   "cell_type": "markdown",
   "metadata": {},
   "source": [
    "## Example"
   ]
  },
  {
   "cell_type": "code",
   "execution_count": 5,
   "metadata": {},
   "outputs": [
    {
     "data": {
      "text/plain": [
       "time.struct_time(tm_year=2020, tm_mon=2, tm_mday=24, tm_hour=13, tm_min=30, tm_sec=0, tm_wday=0, tm_yday=55, tm_isdst=-1)"
      ]
     },
     "execution_count": 5,
     "metadata": {},
     "output_type": "execute_result"
    }
   ],
   "source": [
    "ts = time.localtime() \n",
    "ts = time.strptime('{}-{} {}:{}'.format(ts.tm_year, ts.tm_yday, ts.tm_hour, ts.tm_min), '%Y-%j %H:%M')\n",
    "t = time.mktime(ts)\n",
    "ts"
   ]
  },
  {
   "cell_type": "markdown",
   "metadata": {},
   "source": [
    "## Encode"
   ]
  },
  {
   "cell_type": "code",
   "execution_count": 6,
   "metadata": {},
   "outputs": [
    {
     "data": {
      "text/plain": [
       "OrderedDict([('M', ['M']),\n",
       "             ('Minutes', [0, 1, 1, 0, 0, 0, 0, 0]),\n",
       "             ('P1', ['M']),\n",
       "             ('Reserved_1', [0, 0]),\n",
       "             ('Hours', [0, 1, 0, 0, 0, 1, 1]),\n",
       "             ('P2', ['M']),\n",
       "             ('Reserved_2', [0, 0]),\n",
       "             ('Day_of_Year', [0, 0, 0, 0, 1, 0, 1, 'M', 0, 1, 0, 1]),\n",
       "             ('Reserved_3', [0, 0]),\n",
       "             ('PA1', [1]),\n",
       "             ('PA2', [0]),\n",
       "             ('SU1', [0]),\n",
       "             ('P4', ['M']),\n",
       "             ('SU2', [0]),\n",
       "             ('Year', [0, 0, 1, 0, 0, 0, 0, 0]),\n",
       "             ('P5', ['M']),\n",
       "             ('Day_of_Week', [0, 0, 1]),\n",
       "             ('LS1', [0]),\n",
       "             ('LS2', [0]),\n",
       "             ('Reserved_4', [0, 0, 0, 0]),\n",
       "             ('P0', ['M'])])"
      ]
     },
     "execution_count": 6,
     "metadata": {},
     "output_type": "execute_result"
    }
   ],
   "source": [
    "Encoder.get_time_code(t)"
   ]
  },
  {
   "cell_type": "code",
   "execution_count": 7,
   "metadata": {},
   "outputs": [
    {
     "name": "stdout",
     "output_type": "stream",
     "text": [
      "['M', 0, 1, 1, 0, 0, 0, 0, 0, 'M', 0, 0, 0, 1, 0, 0, 0, 1, 1, 'M', 0, 0, 0, 0, 0, 0, 1, 0, 1, 'M', 0, 1, 0, 1, 0, 0, 1, 0, 0, 'M', 0, 0, 0, 1, 0, 0, 0, 0, 0, 'M', 0, 0, 1, 0, 0, 0, 0, 0, 0, 'M']\n"
     ]
    }
   ],
   "source": [
    "bits = Encoder.get_bits(t)\n",
    "print(bits)"
   ]
  },
  {
   "cell_type": "code",
   "execution_count": 8,
   "metadata": {},
   "outputs": [
    {
     "data": {
      "text/plain": [
       "'M01100000M000100011M000000101M010100100M000100000M001000000M'"
      ]
     },
     "execution_count": 8,
     "metadata": {},
     "output_type": "execute_result"
    }
   ],
   "source": [
    "Encoder.get_symbols(t)"
   ]
  },
  {
   "cell_type": "markdown",
   "metadata": {},
   "source": [
    "## Decode"
   ]
  },
  {
   "cell_type": "code",
   "execution_count": 9,
   "metadata": {},
   "outputs": [],
   "source": [
    "t1 = Decoder.get_time(bits) "
   ]
  },
  {
   "cell_type": "markdown",
   "metadata": {},
   "source": [
    "## Validate"
   ]
  },
  {
   "cell_type": "code",
   "execution_count": 10,
   "metadata": {},
   "outputs": [
    {
     "data": {
      "text/plain": [
       "True"
      ]
     },
     "execution_count": 10,
     "metadata": {},
     "output_type": "execute_result"
    }
   ],
   "source": [
    "t1 == t"
   ]
  }
 ],
 "metadata": {
  "kernelspec": {
   "display_name": "Python 3",
   "language": "python",
   "name": "python3"
  },
  "language_info": {
   "codemirror_mode": {
    "name": "ipython",
    "version": 3
   },
   "file_extension": ".py",
   "mimetype": "text/x-python",
   "name": "python",
   "nbconvert_exporter": "python",
   "pygments_lexer": "ipython3",
   "version": "3.6.10"
  }
 },
 "nbformat": 4,
 "nbformat_minor": 2
}
