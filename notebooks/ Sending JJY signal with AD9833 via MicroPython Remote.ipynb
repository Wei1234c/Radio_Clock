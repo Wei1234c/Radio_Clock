{
 "cells": [
  {
   "cell_type": "markdown",
   "metadata": {},
   "source": [
    "# Sending JJY signal with AD9833 via MicroPython Remote\n",
    "- https://en.wikipedia.org/wiki/JJY  \n",
    "- https://www.analog.com/media/en/technical-documentation/data-sheets/ad9833.pdf"
   ]
  },
  {
   "cell_type": "code",
   "execution_count": null,
   "metadata": {},
   "outputs": [],
   "source": [
    "%local\n",
    "!ls /dev/ttyUSB*"
   ]
  },
  {
   "cell_type": "code",
   "execution_count": 1,
   "metadata": {},
   "outputs": [
    {
     "name": "stdout",
     "output_type": "stream",
     "text": [
      "\u001b[34mConnected on COM4\n",
      "\u001b[0m"
     ]
    }
   ],
   "source": [
    "# %connect /dev/ttyUSB1 --baudrate=115200 --user='micro' --password='python' --wait=0\n",
    "\n",
    "%connect COM4 --baudrate=115200 --user='micro' --password='python' --wait=0"
   ]
  },
  {
   "cell_type": "code",
   "execution_count": 1,
   "metadata": {},
   "outputs": [],
   "source": [
    "# %lsmagic"
   ]
  },
  {
   "cell_type": "code",
   "execution_count": 1,
   "metadata": {},
   "outputs": [
    {
     "name": "stderr",
     "output_type": "stream",
     "text": [
      "Traceback (most recent call last):\r\n",
      "  File \"<stdin>\", line 5, in <module>\r\n",
      "ImportError: no module named 'jjy'\r\n"
     ]
    }
   ],
   "source": [
    "import adapters\n",
    "import modulators\n",
    "import ad9833\n",
    "from ad9833 import AD9833\n",
    "from jjy import Encoder\n",
    "\n",
    "import machine\n",
    "import gc\n",
    "\n",
    "gc.collect()"
   ]
  },
  {
   "cell_type": "markdown",
   "metadata": {},
   "source": [
    "## Debug mode?"
   ]
  },
  {
   "cell_type": "code",
   "execution_count": 1,
   "metadata": {
    "scrolled": false
   },
   "outputs": [],
   "source": [
    "adapters.SPI.DEBUG_MODE = False  # whether to show SPI written data.\n",
    "ad9833.AD9833.DEBUG_MODE = False        # whether to dump registers. "
   ]
  },
  {
   "cell_type": "markdown",
   "metadata": {},
   "source": [
    "## Generators and Modulators"
   ]
  },
  {
   "cell_type": "code",
   "execution_count": 1,
   "metadata": {},
   "outputs": [],
   "source": [
    "with_hardware_device = True\n",
    "\n",
    "if with_hardware_device:\n",
    "    _spi = adapters.SPI.get_uPy_spi(polarity = 1)\n",
    "    _ss = adapters.Pin.get_uPy_pin(pin_id = 15, output = True) \n",
    "else:\n",
    "    _spi = _ss = None  # using None for testing without actual hardware device.\n",
    "\n",
    "ad = ad9833.AD9833(_spi, _ss)\n",
    "ook = modulators.OOK(ad, freq = int(4e4)) "
   ]
  },
  {
   "cell_type": "code",
   "execution_count": 1,
   "metadata": {},
   "outputs": [],
   "source": [
    "ook.enable_output(True)"
   ]
  },
  {
   "cell_type": "code",
   "execution_count": 1,
   "metadata": {},
   "outputs": [],
   "source": [
    "ook.enable_output(False)"
   ]
  },
  {
   "cell_type": "markdown",
   "metadata": {},
   "source": [
    "## Sending JJY signal"
   ]
  },
  {
   "cell_type": "code",
   "execution_count": null,
   "metadata": {},
   "outputs": [],
   "source": [
    "year, month, month_day, hour, minute, second, week_day, year_day = Encoder.get_datetime_elements()\n",
    "year, month, month_day, hour, minute, second, week_day, year_day    "
   ]
  },
  {
   "cell_type": "code",
   "execution_count": null,
   "metadata": {},
   "outputs": [],
   "source": [
    "jjy_sequence = Encoder.get_symbols_ook_sequence()\n",
    "# print(jjy_sequence)"
   ]
  },
  {
   "cell_type": "code",
   "execution_count": null,
   "metadata": {
    "scrolled": false
   },
   "outputs": [],
   "source": [
    "ook.send_sequence(jjy_sequence)"
   ]
  }
 ],
 "metadata": {
  "kernelspec": {
   "display_name": "MicroPython Remote",
   "language": "micropython",
   "name": "micropython"
  },
  "language_info": {
   "codemirror_mode": "python",
   "file_extension": ".py",
   "mimetype": "text/python",
   "name": "micropython"
  }
 },
 "nbformat": 4,
 "nbformat_minor": 2
}
